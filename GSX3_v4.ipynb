{
 "cells": [
  {
   "cell_type": "code",
   "execution_count": 1,
   "metadata": {},
   "outputs": [],
   "source": [
    "import itertools as it"
   ]
  },
  {
   "cell_type": "markdown",
   "metadata": {},
   "source": [
    "# For convenience, use letters as the base codecs\n",
    "\n",
    "Gly = ['A', 'B', 'C', 'D']\n",
    "Ser = ['E', 'F', 'G', 'H', 'I', 'J']\n",
    "\n",
    "Base = ['A', 'B', 'C', 'D', 'E', 'F', 'G', 'H', 'I', 'J']"
   ]
  },
  {
   "cell_type": "code",
   "execution_count": 2,
   "metadata": {},
   "outputs": [],
   "source": [
    "# Drop the less likely codecs, for Gly, D = GGG is 0.12; for Ser, I = AGC is 0.11 and J = TCG is 0.1\n",
    "\n",
    "Gly = ['A', 'B', 'C']\n",
    "Ser = ['E', 'F', 'G', 'H']\n",
    "\n",
    "Base = ['A', 'B', 'C', 'E', 'F', 'G', 'H']"
   ]
  },
  {
   "cell_type": "code",
   "execution_count": 3,
   "metadata": {},
   "outputs": [],
   "source": [
    "# Generate All Possible Combination for Given Ammino Acid Sequence\n",
    "\n",
    "gly_ser = [list(gs) for gs in it.product(Gly, Ser, Gly, Ser, Gly, Ser)]"
   ]
  },
  {
   "cell_type": "code",
   "execution_count": 4,
   "metadata": {},
   "outputs": [],
   "source": [
    "# Filter Sequences with Three Identical Codecs in the Lists We Hope to Keep\n",
    "\n",
    "GSX3 = [gly_ser[0]] # Set the First List in the Full Lists as the initial List \n",
    "\n",
    "for i in range(1, len(gly_ser)):\n",
    "    gs3 =  gly_ser[i]\n",
    "    discard = False\n",
    "\n",
    "    for idx in range(len(GSX3)):\n",
    "        gsk = GSX3[idx]\n",
    "\n",
    "        if any(gs3[j: j+3] == gsk[k: k+3] for j in range(4) for k in range(4)): # Find Lists with Three Identical Codecs in two lists\n",
    "            discard = True\n",
    "            break\n",
    "    \n",
    "    if discard == True:\n",
    "        continue\n",
    "    else:\n",
    "        GSX3.append(gs3)"
   ]
  },
  {
   "cell_type": "code",
   "execution_count": 5,
   "metadata": {},
   "outputs": [],
   "source": [
    "# Further Filter Sequences with Certain Repeats of a Given Codec\n",
    "\n",
    "list_gsx3 = []\n",
    "\n",
    "for i in range(len(GSX3)):\n",
    "    gs = GSX3[i]\n",
    "    remove = False\n",
    "\n",
    "    for code in Base:\n",
    "        N = gs.count(code) # Count the repeats of a codec \n",
    "\n",
    "        if N > 2:   # Filter the sequences with moere than two repeats\n",
    "            remove = True\n",
    "            break\n",
    "        \n",
    "    if remove == True:\n",
    "        continue\n",
    "    else:\n",
    "        list_gsx3.append(list(gs))"
   ]
  },
  {
   "cell_type": "code",
   "execution_count": 6,
   "metadata": {},
   "outputs": [
    {
     "data": {
      "text/plain": [
       "[['A', 'E', 'B', 'E', 'A', 'F'],\n",
       " ['A', 'E', 'C', 'E', 'A', 'G'],\n",
       " ['A', 'F', 'B', 'E', 'B', 'F'],\n",
       " ['A', 'F', 'C', 'E', 'B', 'G'],\n",
       " ['A', 'G', 'B', 'E', 'C', 'F'],\n",
       " ['A', 'G', 'C', 'E', 'C', 'G'],\n",
       " ['A', 'H', 'B', 'F', 'A', 'G'],\n",
       " ['A', 'H', 'C', 'F', 'A', 'H'],\n",
       " ['B', 'F', 'C', 'F', 'B', 'G'],\n",
       " ['B', 'G', 'B', 'G', 'A', 'F'],\n",
       " ['B', 'G', 'C', 'F', 'C', 'G'],\n",
       " ['B', 'H', 'B', 'H', 'A', 'F'],\n",
       " ['B', 'H', 'C', 'G', 'A', 'H'],\n",
       " ['C', 'G', 'C', 'G', 'B', 'F'],\n",
       " ['C', 'H', 'C', 'H', 'A', 'G']]"
      ]
     },
     "execution_count": 6,
     "metadata": {},
     "output_type": "execute_result"
    }
   ],
   "source": [
    "list_gsx3"
   ]
  },
  {
   "cell_type": "code",
   "execution_count": 7,
   "metadata": {},
   "outputs": [],
   "source": [
    "# Replace the Letters with Real Codecs\n",
    "\n",
    "gsx3_code = []\n",
    "\n",
    "for gs in list_gsx3:\n",
    "\n",
    "    gs_code = ''\n",
    "\n",
    "    for i in range(len(gs)):\n",
    "        if gs[i] == 'A':\n",
    "            gs[i] = 'GGT'\n",
    "        elif gs[i] == 'B':\n",
    "            gs[i] = 'GGA'\n",
    "        elif gs[i] == 'C':\n",
    "            gs[i] = 'GGC'\n",
    "        elif gs[i] == 'D':\n",
    "            gs[i] = 'GGG'    \n",
    "        elif gs[i] == 'E':\n",
    "            gs[i] = 'TCT'\n",
    "        elif gs[i] == 'F':\n",
    "            gs[i] = 'TCA'\n",
    "        elif gs[i] == 'G':\n",
    "            gs[i] = 'TCC'\n",
    "        elif gs[i] == 'H':\n",
    "            gs[i] = 'AGT'\n",
    "        elif gs[i] == 'I':\n",
    "            gs[i] = 'AGC'\n",
    "        elif gs[i] == 'J':\n",
    "            gs[i] = 'TCG'\n",
    "\n",
    "        gs_code = gs_code + gs[i] \n",
    "\n",
    "    gsx3_code.append(gs_code)"
   ]
  },
  {
   "cell_type": "code",
   "execution_count": 8,
   "metadata": {},
   "outputs": [],
   "source": [
    "# Write the Results to a TXT file\n",
    "\n",
    "with open('gsx3.txt', 'w') as f:\n",
    "    for line in gsx3_code:\n",
    "        f.write(line)\n",
    "        f.write('\\n')"
   ]
  }
 ],
 "metadata": {
  "kernelspec": {
   "display_name": "Python 3.10.6 64-bit",
   "language": "python",
   "name": "python3"
  },
  "language_info": {
   "codemirror_mode": {
    "name": "ipython",
    "version": 3
   },
   "file_extension": ".py",
   "mimetype": "text/x-python",
   "name": "python",
   "nbconvert_exporter": "python",
   "pygments_lexer": "ipython3",
   "version": "3.10.7"
  },
  "orig_nbformat": 4,
  "vscode": {
   "interpreter": {
    "hash": "aee8b7b246df8f9039afb4144a1f6fd8d2ca17a180786b69acc140d282b71a49"
   }
  }
 },
 "nbformat": 4,
 "nbformat_minor": 2
}
